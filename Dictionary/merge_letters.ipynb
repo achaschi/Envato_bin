{
 "cells": [
  {
   "cell_type": "code",
   "execution_count": 5,
   "id": "0c4e351d",
   "metadata": {},
   "outputs": [
    {
     "ename": "UnicodeDecodeError",
     "evalue": "'utf-8' codec can't decode byte 0xa1 in position 4650: invalid start byte",
     "output_type": "error",
     "traceback": [
      "\u001b[0;31m---------------------------------------------------------------------------\u001b[0m",
      "\u001b[0;31mUnicodeDecodeError\u001b[0m                        Traceback (most recent call last)",
      "Cell \u001b[0;32mIn [5], line 14\u001b[0m\n\u001b[1;32m     12\u001b[0m     \u001b[38;5;28;01mwith\u001b[39;00m \u001b[38;5;28mopen\u001b[39m(csv_file, \u001b[38;5;124m'\u001b[39m\u001b[38;5;124mr\u001b[39m\u001b[38;5;124m'\u001b[39m) \u001b[38;5;28;01mas\u001b[39;00m f:\n\u001b[1;32m     13\u001b[0m         reader \u001b[38;5;241m=\u001b[39m csv\u001b[38;5;241m.\u001b[39mreader(f)\n\u001b[0;32m---> 14\u001b[0m         \u001b[38;5;28;01mfor\u001b[39;00m row \u001b[38;5;129;01min\u001b[39;00m reader:\n\u001b[1;32m     15\u001b[0m             rows\u001b[38;5;241m.\u001b[39mappend(row)\n\u001b[1;32m     17\u001b[0m \u001b[38;5;66;03m# Remove any blank rows\u001b[39;00m\n",
      "File \u001b[0;32m/opt/homebrew/Cellar/python@3.10/3.10.8/Frameworks/Python.framework/Versions/3.10/lib/python3.10/codecs.py:322\u001b[0m, in \u001b[0;36mBufferedIncrementalDecoder.decode\u001b[0;34m(self, input, final)\u001b[0m\n\u001b[1;32m    319\u001b[0m \u001b[38;5;28;01mdef\u001b[39;00m \u001b[38;5;21mdecode\u001b[39m(\u001b[38;5;28mself\u001b[39m, \u001b[38;5;28minput\u001b[39m, final\u001b[38;5;241m=\u001b[39m\u001b[38;5;28;01mFalse\u001b[39;00m):\n\u001b[1;32m    320\u001b[0m     \u001b[38;5;66;03m# decode input (taking the buffer into account)\u001b[39;00m\n\u001b[1;32m    321\u001b[0m     data \u001b[38;5;241m=\u001b[39m \u001b[38;5;28mself\u001b[39m\u001b[38;5;241m.\u001b[39mbuffer \u001b[38;5;241m+\u001b[39m \u001b[38;5;28minput\u001b[39m\n\u001b[0;32m--> 322\u001b[0m     (result, consumed) \u001b[38;5;241m=\u001b[39m \u001b[38;5;28;43mself\u001b[39;49m\u001b[38;5;241;43m.\u001b[39;49m\u001b[43m_buffer_decode\u001b[49m\u001b[43m(\u001b[49m\u001b[43mdata\u001b[49m\u001b[43m,\u001b[49m\u001b[43m \u001b[49m\u001b[38;5;28;43mself\u001b[39;49m\u001b[38;5;241;43m.\u001b[39;49m\u001b[43merrors\u001b[49m\u001b[43m,\u001b[49m\u001b[43m \u001b[49m\u001b[43mfinal\u001b[49m\u001b[43m)\u001b[49m\n\u001b[1;32m    323\u001b[0m     \u001b[38;5;66;03m# keep undecoded input until the next call\u001b[39;00m\n\u001b[1;32m    324\u001b[0m     \u001b[38;5;28mself\u001b[39m\u001b[38;5;241m.\u001b[39mbuffer \u001b[38;5;241m=\u001b[39m data[consumed:]\n",
      "\u001b[0;31mUnicodeDecodeError\u001b[0m: 'utf-8' codec can't decode byte 0xa1 in position 4650: invalid start byte"
     ]
    }
   ],
   "source": [
    "import csv\n",
    "import os\n",
    "import codecs\n",
    "\n",
    "# Get all csv files in the current directory\n",
    "csv_files = [f for f in os.listdir() if f.endswith('.csv')]\n",
    "\n",
    "# Create a list to store all rows\n",
    "rows = []\n",
    "\n",
    "# Loop through all csv files and read the contents\n",
    "for csv_file in csv_files:\n",
    "    with codecs.open(csv_file, 'r', encoding='utf-8', errors='ignore') as f:\n",
    "        reader = csv.reader(f)\n",
    "        for row in reader:\n",
    "            rows.append(row)\n",
    "\n",
    "# Loop through all rows and split the contents into 3 columns\n",
    "result = []\n",
    "for row in rows:\n",
    "    if '(' in row[0]:\n",
    "        word = row[0].split('(')\n",
    "        first = word[0].strip()\n",
    "        second = word[1].split(')')[0].strip()\n",
    "        third = row[0][len(first) + len(second) + 2:].strip()\n",
    "        result.append([first, second, third])\n",
    "    else:\n",
    "        result.append([row[0], \"\", \"\"])\n",
    "\n",
    "# Write the result to a new csv file\n",
    "with codecs.open('azdictionary.csv', 'w', encoding='utf-8', errors='ignore', newline='') as f:\n",
    "    writer = csv.writer(f)\n",
    "    writer.writerows(result)\n"
   ]
  },
  {
   "cell_type": "code",
   "execution_count": 6,
   "id": "9510e514",
   "metadata": {},
   "outputs": [],
   "source": [
    "import csv\n",
    "import os\n",
    "import codecs\n",
    "\n",
    "# Get all csv files in the current directory\n",
    "csv_files = [f for f in os.listdir() if f.endswith('.csv')]\n",
    "\n",
    "# Create a list to store all rows\n",
    "rows = []\n",
    "\n",
    "# Loop through all csv files and read the contents\n",
    "for csv_file in csv_files:\n",
    "    with codecs.open(csv_file, 'r', encoding='utf-8', errors='ignore') as f:\n",
    "        reader = csv.reader(f)\n",
    "        for row in reader:\n",
    "            rows.append(row)\n",
    "\n",
    "\n",
    "# Remove any blank rows\n",
    "rows = [row for row in rows if any(row)]\n",
    "\n",
    "# Write the result to a new csv file\n",
    "with open('merged_file.csv', 'w', newline='') as f:\n",
    "    writer = csv.writer(f)\n",
    "    writer.writerows(rows)\n"
   ]
  },
  {
   "cell_type": "code",
   "execution_count": 7,
   "id": "e8f48325",
   "metadata": {},
   "outputs": [],
   "source": [
    "import csv\n",
    "\n",
    "# Create a list to store all rows\n",
    "rows = []\n",
    "\n",
    "# Read the contents of the file\n",
    "with open('merged_file.csv', 'r') as f:\n",
    "    reader = csv.reader(f)\n",
    "    for row in reader:\n",
    "        rows.append(row)\n",
    "\n",
    "# Loop through all rows and split the contents into 3 columns\n",
    "result = []\n",
    "for row in rows:\n",
    "    if '(' in row[0]:\n",
    "        word = row[0].split('(')\n",
    "        first = word[0].strip()\n",
    "        second = word[1].split(')')[0].strip()\n",
    "        third = row[0][len(first) + len(second) + 2:].strip()\n",
    "        result.append([first, second, third])\n",
    "\n",
    "# Write the result to a new csv file\n",
    "with open('split_dict.csv', 'w', newline='') as f:\n",
    "    writer = csv.writer(f)\n",
    "    writer.writerow(['word', 'type', 'definition'])\n",
    "    writer.writerows(result)"
   ]
  },
  {
   "cell_type": "code",
   "execution_count": null,
   "id": "17baab05",
   "metadata": {},
   "outputs": [],
   "source": []
  }
 ],
 "metadata": {
  "kernelspec": {
   "display_name": "Python 3 (ipykernel)",
   "language": "python",
   "name": "python3"
  },
  "language_info": {
   "codemirror_mode": {
    "name": "ipython",
    "version": 3
   },
   "file_extension": ".py",
   "mimetype": "text/x-python",
   "name": "python",
   "nbconvert_exporter": "python",
   "pygments_lexer": "ipython3",
   "version": "3.10.8"
  }
 },
 "nbformat": 4,
 "nbformat_minor": 5
}
